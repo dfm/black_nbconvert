{
 "cells": [
  {
   "cell_type": "code",
   "execution_count": 1,
   "id": "b9ccdeae-2b07-4ab1-8232-f1d05463961b",
   "metadata": {},
   "outputs": [],
   "source": [
    "def this_isnt_valid(\n",
    "    an_arg, another_arg,\n",
    "    kwarg=None, another_kwarg=0\n",
    "        ):\n",
    "    return \"this is a really long string that shouldn't be valid\" + \"in black, how about now? is this long enough?\""
   ]
  },
  {
   "cell_type": "code",
   "execution_count": null,
   "id": "7d7e2e06-495b-49c6-be92-dc58e386ca2f",
   "metadata": {},
   "outputs": [],
   "source": []
  }
 ],
 "metadata": {
  "kernelspec": {
   "display_name": "Python 3",
   "language": "python",
   "name": "python3"
  },
  "language_info": {
   "codemirror_mode": {
    "name": "ipython",
    "version": 3
   },
   "file_extension": ".py",
   "mimetype": "text/x-python",
   "name": "python",
   "nbconvert_exporter": "python",
   "pygments_lexer": "ipython3",
   "version": "3.9.4"
  }
 },
 "nbformat": 4,
 "nbformat_minor": 5
}
